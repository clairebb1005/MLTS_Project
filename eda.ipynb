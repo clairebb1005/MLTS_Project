{
 "cells": [
  {
   "cell_type": "code",
   "execution_count": 64,
   "metadata": {},
   "outputs": [],
   "source": [
    "import pandas as pd\n",
    "import numpy as np\n",
    "import matplotlib.pyplot as plt\n",
    "import seaborn as sns"
   ]
  },
  {
   "cell_type": "code",
   "execution_count": 49,
   "metadata": {},
   "outputs": [
    {
     "data": {
      "text/html": [
       "<div>\n",
       "<style scoped>\n",
       "    .dataframe tbody tr th:only-of-type {\n",
       "        vertical-align: middle;\n",
       "    }\n",
       "\n",
       "    .dataframe tbody tr th {\n",
       "        vertical-align: top;\n",
       "    }\n",
       "\n",
       "    .dataframe thead th {\n",
       "        text-align: right;\n",
       "    }\n",
       "</style>\n",
       "<table border=\"1\" class=\"dataframe\">\n",
       "  <thead>\n",
       "    <tr style=\"text-align: right;\">\n",
       "      <th></th>\n",
       "      <th>session_ID</th>\n",
       "      <th>Garage_ID</th>\n",
       "      <th>User_ID</th>\n",
       "      <th>User_type</th>\n",
       "      <th>Shared_ID</th>\n",
       "      <th>Start_plugin</th>\n",
       "      <th>Start_plugin_hour</th>\n",
       "      <th>End_plugout</th>\n",
       "      <th>End_plugout_hour</th>\n",
       "      <th>El_kWh</th>\n",
       "      <th>Duration_hours</th>\n",
       "      <th>month_plugin</th>\n",
       "      <th>weekdays_plugin</th>\n",
       "      <th>Plugin_category</th>\n",
       "      <th>Duration_category</th>\n",
       "    </tr>\n",
       "  </thead>\n",
       "  <tbody>\n",
       "    <tr>\n",
       "      <th>0</th>\n",
       "      <td>1</td>\n",
       "      <td>AdO3</td>\n",
       "      <td>AdO3-4</td>\n",
       "      <td>Private</td>\n",
       "      <td>NaN</td>\n",
       "      <td>21.12.2018 10:20</td>\n",
       "      <td>10</td>\n",
       "      <td>21.12.2018 10:23</td>\n",
       "      <td>10.0</td>\n",
       "      <td>0,3</td>\n",
       "      <td>0,05</td>\n",
       "      <td>Dec</td>\n",
       "      <td>Friday</td>\n",
       "      <td>late morning (9-12)</td>\n",
       "      <td>Less than 3 hours</td>\n",
       "    </tr>\n",
       "    <tr>\n",
       "      <th>1</th>\n",
       "      <td>2</td>\n",
       "      <td>AdO3</td>\n",
       "      <td>AdO3-4</td>\n",
       "      <td>Private</td>\n",
       "      <td>NaN</td>\n",
       "      <td>21.12.2018 10:24</td>\n",
       "      <td>10</td>\n",
       "      <td>21.12.2018 10:32</td>\n",
       "      <td>10.0</td>\n",
       "      <td>0,87</td>\n",
       "      <td>0,136666667</td>\n",
       "      <td>Dec</td>\n",
       "      <td>Friday</td>\n",
       "      <td>late morning (9-12)</td>\n",
       "      <td>Less than 3 hours</td>\n",
       "    </tr>\n",
       "    <tr>\n",
       "      <th>2</th>\n",
       "      <td>3</td>\n",
       "      <td>AdO3</td>\n",
       "      <td>AdO3-4</td>\n",
       "      <td>Private</td>\n",
       "      <td>NaN</td>\n",
       "      <td>21.12.2018 11:33</td>\n",
       "      <td>11</td>\n",
       "      <td>21.12.2018 19:46</td>\n",
       "      <td>19.0</td>\n",
       "      <td>29,87</td>\n",
       "      <td>8,216388889</td>\n",
       "      <td>Dec</td>\n",
       "      <td>Friday</td>\n",
       "      <td>late morning (9-12)</td>\n",
       "      <td>Between 6 and 9  hours</td>\n",
       "    </tr>\n",
       "    <tr>\n",
       "      <th>3</th>\n",
       "      <td>4</td>\n",
       "      <td>AdO3</td>\n",
       "      <td>AdO3-2</td>\n",
       "      <td>Private</td>\n",
       "      <td>NaN</td>\n",
       "      <td>22.12.2018 16:15</td>\n",
       "      <td>16</td>\n",
       "      <td>23.12.2018 16:40</td>\n",
       "      <td>16.0</td>\n",
       "      <td>15,56</td>\n",
       "      <td>24,41972222</td>\n",
       "      <td>Dec</td>\n",
       "      <td>Saturday</td>\n",
       "      <td>late afternoon (15-18)</td>\n",
       "      <td>More than 18 hours</td>\n",
       "    </tr>\n",
       "    <tr>\n",
       "      <th>4</th>\n",
       "      <td>5</td>\n",
       "      <td>AdO3</td>\n",
       "      <td>AdO3-2</td>\n",
       "      <td>Private</td>\n",
       "      <td>NaN</td>\n",
       "      <td>24.12.2018 22:03</td>\n",
       "      <td>22</td>\n",
       "      <td>24.12.2018 23:02</td>\n",
       "      <td>23.0</td>\n",
       "      <td>3,62</td>\n",
       "      <td>0,970555556</td>\n",
       "      <td>Dec</td>\n",
       "      <td>Monday</td>\n",
       "      <td>late evening (21-midnight)</td>\n",
       "      <td>Less than 3 hours</td>\n",
       "    </tr>\n",
       "  </tbody>\n",
       "</table>\n",
       "</div>"
      ],
      "text/plain": [
       "   session_ID Garage_ID User_ID User_type Shared_ID      Start_plugin  \\\n",
       "0           1      AdO3  AdO3-4   Private       NaN  21.12.2018 10:20   \n",
       "1           2      AdO3  AdO3-4   Private       NaN  21.12.2018 10:24   \n",
       "2           3      AdO3  AdO3-4   Private       NaN  21.12.2018 11:33   \n",
       "3           4      AdO3  AdO3-2   Private       NaN  22.12.2018 16:15   \n",
       "4           5      AdO3  AdO3-2   Private       NaN  24.12.2018 22:03   \n",
       "\n",
       "   Start_plugin_hour       End_plugout  End_plugout_hour El_kWh  \\\n",
       "0                 10  21.12.2018 10:23              10.0    0,3   \n",
       "1                 10  21.12.2018 10:32              10.0   0,87   \n",
       "2                 11  21.12.2018 19:46              19.0  29,87   \n",
       "3                 16  23.12.2018 16:40              16.0  15,56   \n",
       "4                 22  24.12.2018 23:02              23.0   3,62   \n",
       "\n",
       "  Duration_hours month_plugin weekdays_plugin             Plugin_category  \\\n",
       "0           0,05          Dec          Friday         late morning (9-12)   \n",
       "1    0,136666667          Dec          Friday         late morning (9-12)   \n",
       "2    8,216388889          Dec          Friday         late morning (9-12)   \n",
       "3    24,41972222          Dec        Saturday      late afternoon (15-18)   \n",
       "4    0,970555556          Dec          Monday  late evening (21-midnight)   \n",
       "\n",
       "        Duration_category  \n",
       "0       Less than 3 hours  \n",
       "1       Less than 3 hours  \n",
       "2  Between 6 and 9  hours  \n",
       "3      More than 18 hours  \n",
       "4       Less than 3 hours  "
      ]
     },
     "execution_count": 49,
     "metadata": {},
     "output_type": "execute_result"
    }
   ],
   "source": [
    "df = pd.read_csv(\"data/Dataset_1_EV_charging_reports.csv\", sep=';')\n",
    "df.head()"
   ]
  },
  {
   "cell_type": "code",
   "execution_count": 50,
   "metadata": {},
   "outputs": [
    {
     "data": {
      "text/plain": [
       "(6878, 15)"
      ]
     },
     "execution_count": 50,
     "metadata": {},
     "output_type": "execute_result"
    }
   ],
   "source": [
    "df.shape"
   ]
  },
  {
   "cell_type": "code",
   "execution_count": 51,
   "metadata": {},
   "outputs": [
    {
     "name": "stdout",
     "output_type": "stream",
     "text": [
      "<class 'pandas.core.frame.DataFrame'>\n",
      "RangeIndex: 6878 entries, 0 to 6877\n",
      "Data columns (total 15 columns):\n",
      "session_ID           6878 non-null int64\n",
      "Garage_ID            6878 non-null object\n",
      "User_ID              6878 non-null object\n",
      "User_type            6878 non-null object\n",
      "Shared_ID            1412 non-null object\n",
      "Start_plugin         6878 non-null object\n",
      "Start_plugin_hour    6878 non-null int64\n",
      "End_plugout          6844 non-null object\n",
      "End_plugout_hour     6844 non-null float64\n",
      "El_kWh               6878 non-null object\n",
      "Duration_hours       6844 non-null object\n",
      "month_plugin         6878 non-null object\n",
      "weekdays_plugin      6878 non-null object\n",
      "Plugin_category      6878 non-null object\n",
      "Duration_category    6844 non-null object\n",
      "dtypes: float64(1), int64(2), object(12)\n",
      "memory usage: 806.1+ KB\n"
     ]
    }
   ],
   "source": [
    "df.info()"
   ]
  },
  {
   "cell_type": "code",
   "execution_count": 102,
   "metadata": {},
   "outputs": [
    {
     "data": {
      "text/html": [
       "<div>\n",
       "<style scoped>\n",
       "    .dataframe tbody tr th:only-of-type {\n",
       "        vertical-align: middle;\n",
       "    }\n",
       "\n",
       "    .dataframe tbody tr th {\n",
       "        vertical-align: top;\n",
       "    }\n",
       "\n",
       "    .dataframe thead th {\n",
       "        text-align: right;\n",
       "    }\n",
       "</style>\n",
       "<table border=\"1\" class=\"dataframe\">\n",
       "  <thead>\n",
       "    <tr style=\"text-align: right;\">\n",
       "      <th></th>\n",
       "      <th>Start_plugin_hour</th>\n",
       "      <th>End_plugout_hour</th>\n",
       "      <th>El_kWh</th>\n",
       "      <th>Duration_hours</th>\n",
       "    </tr>\n",
       "  </thead>\n",
       "  <tbody>\n",
       "    <tr>\n",
       "      <th>count</th>\n",
       "      <td>6878.000000</td>\n",
       "      <td>6844.000000</td>\n",
       "      <td>6878.000000</td>\n",
       "      <td>6844.000000</td>\n",
       "    </tr>\n",
       "    <tr>\n",
       "      <th>mean</th>\n",
       "      <td>16.325240</td>\n",
       "      <td>12.546902</td>\n",
       "      <td>12.720744</td>\n",
       "      <td>11.504440</td>\n",
       "    </tr>\n",
       "    <tr>\n",
       "      <th>std</th>\n",
       "      <td>4.363108</td>\n",
       "      <td>5.256756</td>\n",
       "      <td>11.787938</td>\n",
       "      <td>14.148168</td>\n",
       "    </tr>\n",
       "    <tr>\n",
       "      <th>min</th>\n",
       "      <td>0.000000</td>\n",
       "      <td>0.000000</td>\n",
       "      <td>0.010000</td>\n",
       "      <td>0.003333</td>\n",
       "    </tr>\n",
       "    <tr>\n",
       "      <th>25%</th>\n",
       "      <td>15.000000</td>\n",
       "      <td>7.000000</td>\n",
       "      <td>5.200000</td>\n",
       "      <td>2.789028</td>\n",
       "    </tr>\n",
       "    <tr>\n",
       "      <th>50%</th>\n",
       "      <td>17.000000</td>\n",
       "      <td>12.000000</td>\n",
       "      <td>9.050000</td>\n",
       "      <td>10.026250</td>\n",
       "    </tr>\n",
       "    <tr>\n",
       "      <th>75%</th>\n",
       "      <td>19.000000</td>\n",
       "      <td>17.000000</td>\n",
       "      <td>16.090000</td>\n",
       "      <td>15.221181</td>\n",
       "    </tr>\n",
       "    <tr>\n",
       "      <th>max</th>\n",
       "      <td>23.000000</td>\n",
       "      <td>23.000000</td>\n",
       "      <td>80.860000</td>\n",
       "      <td>255.029444</td>\n",
       "    </tr>\n",
       "  </tbody>\n",
       "</table>\n",
       "</div>"
      ],
      "text/plain": [
       "       Start_plugin_hour  End_plugout_hour       El_kWh  Duration_hours\n",
       "count        6878.000000       6844.000000  6878.000000     6844.000000\n",
       "mean           16.325240         12.546902    12.720744       11.504440\n",
       "std             4.363108          5.256756    11.787938       14.148168\n",
       "min             0.000000          0.000000     0.010000        0.003333\n",
       "25%            15.000000          7.000000     5.200000        2.789028\n",
       "50%            17.000000         12.000000     9.050000       10.026250\n",
       "75%            19.000000         17.000000    16.090000       15.221181\n",
       "max            23.000000         23.000000    80.860000      255.029444"
      ]
     },
     "execution_count": 102,
     "metadata": {},
     "output_type": "execute_result"
    }
   ],
   "source": [
    "# Statistical Insight\n",
    "df['El_kWh'] = df['El_kWh'].apply(str).str.replace(',', '.').astype(float)\n",
    "df['Duration_hours'] = df['Duration_hours'].apply(str).str.replace(',', '.').astype(float)\n",
    "df[['Start_plugin_hour','End_plugout_hour','El_kWh','Duration_hours']].describe()"
   ]
  },
  {
   "cell_type": "code",
   "execution_count": 105,
   "metadata": {
    "scrolled": false
   },
   "outputs": [
    {
     "data": {
      "text/html": [
       "<div>\n",
       "<style scoped>\n",
       "    .dataframe tbody tr th:only-of-type {\n",
       "        vertical-align: middle;\n",
       "    }\n",
       "\n",
       "    .dataframe tbody tr th {\n",
       "        vertical-align: top;\n",
       "    }\n",
       "\n",
       "    .dataframe thead th {\n",
       "        text-align: right;\n",
       "    }\n",
       "</style>\n",
       "<table border=\"1\" class=\"dataframe\">\n",
       "  <thead>\n",
       "    <tr style=\"text-align: right;\">\n",
       "      <th></th>\n",
       "      <th>Garage_ID</th>\n",
       "      <th>User_ID</th>\n",
       "      <th>weekdays_plugin</th>\n",
       "    </tr>\n",
       "  </thead>\n",
       "  <tbody>\n",
       "    <tr>\n",
       "      <th>count</th>\n",
       "      <td>6878</td>\n",
       "      <td>6878</td>\n",
       "      <td>6878</td>\n",
       "    </tr>\n",
       "    <tr>\n",
       "      <th>unique</th>\n",
       "      <td>24</td>\n",
       "      <td>97</td>\n",
       "      <td>7</td>\n",
       "    </tr>\n",
       "    <tr>\n",
       "      <th>top</th>\n",
       "      <td>Bl2</td>\n",
       "      <td>Bl2-5</td>\n",
       "      <td>Thursday</td>\n",
       "    </tr>\n",
       "    <tr>\n",
       "      <th>freq</th>\n",
       "      <td>2243</td>\n",
       "      <td>639</td>\n",
       "      <td>1072</td>\n",
       "    </tr>\n",
       "  </tbody>\n",
       "</table>\n",
       "</div>"
      ],
      "text/plain": [
       "       Garage_ID User_ID weekdays_plugin\n",
       "count       6878    6878            6878\n",
       "unique        24      97               7\n",
       "top          Bl2   Bl2-5        Thursday\n",
       "freq        2243     639            1072"
      ]
     },
     "execution_count": 105,
     "metadata": {},
     "output_type": "execute_result"
    }
   ],
   "source": [
    "df[['Garage_ID','User_ID','weekdays_plugin']].describe()"
   ]
  },
  {
   "cell_type": "code",
   "execution_count": 109,
   "metadata": {},
   "outputs": [
    {
     "data": {
      "text/plain": [
       "session_ID              0\n",
       "Garage_ID               0\n",
       "User_ID                 0\n",
       "User_type               0\n",
       "Shared_ID            5466\n",
       "Start_plugin            0\n",
       "Start_plugin_hour       0\n",
       "End_plugout            34\n",
       "End_plugout_hour       34\n",
       "El_kWh                  0\n",
       "Duration_hours         34\n",
       "month_plugin            0\n",
       "weekdays_plugin         0\n",
       "Plugin_category         0\n",
       "Duration_category      34\n",
       "dtype: int64"
      ]
     },
     "execution_count": 109,
     "metadata": {},
     "output_type": "execute_result"
    }
   ],
   "source": [
    "# Data cleaning - handling missing value\n",
    "# check total number of null for each columns\n",
    "df.isnull().sum()"
   ]
  },
  {
   "cell_type": "code",
   "execution_count": 121,
   "metadata": {},
   "outputs": [],
   "source": [
    "# remove rows where 'End_plugout_hour is Nan'\n",
    "df = df[df.End_plugout_hour.notnull()]"
   ]
  },
  {
   "cell_type": "code",
   "execution_count": 122,
   "metadata": {},
   "outputs": [
    {
     "data": {
      "text/plain": [
       "session_ID              0\n",
       "Garage_ID               0\n",
       "User_ID                 0\n",
       "User_type               0\n",
       "Shared_ID            5442\n",
       "Start_plugin            0\n",
       "Start_plugin_hour       0\n",
       "End_plugout             0\n",
       "End_plugout_hour        0\n",
       "El_kWh                  0\n",
       "Duration_hours          0\n",
       "month_plugin            0\n",
       "weekdays_plugin         0\n",
       "Plugin_category         0\n",
       "Duration_category       0\n",
       "dtype: int64"
      ]
     },
     "execution_count": 122,
     "metadata": {},
     "output_type": "execute_result"
    }
   ],
   "source": [
    "df.isnull().sum()"
   ]
  },
  {
   "cell_type": "code",
   "execution_count": 125,
   "metadata": {},
   "outputs": [
    {
     "data": {
      "text/html": [
       "<div>\n",
       "<style scoped>\n",
       "    .dataframe tbody tr th:only-of-type {\n",
       "        vertical-align: middle;\n",
       "    }\n",
       "\n",
       "    .dataframe tbody tr th {\n",
       "        vertical-align: top;\n",
       "    }\n",
       "\n",
       "    .dataframe thead th {\n",
       "        text-align: right;\n",
       "    }\n",
       "</style>\n",
       "<table border=\"1\" class=\"dataframe\">\n",
       "  <thead>\n",
       "    <tr style=\"text-align: right;\">\n",
       "      <th></th>\n",
       "      <th>session_ID</th>\n",
       "      <th>Garage_ID</th>\n",
       "      <th>User_ID</th>\n",
       "      <th>User_type</th>\n",
       "      <th>Shared_ID</th>\n",
       "      <th>Start_plugin</th>\n",
       "      <th>Start_plugin_hour</th>\n",
       "      <th>End_plugout</th>\n",
       "      <th>End_plugout_hour</th>\n",
       "      <th>El_kWh</th>\n",
       "      <th>Duration_hours</th>\n",
       "      <th>month_plugin</th>\n",
       "      <th>weekdays_plugin</th>\n",
       "      <th>Plugin_category</th>\n",
       "      <th>Duration_category</th>\n",
       "    </tr>\n",
       "  </thead>\n",
       "  <tbody>\n",
       "  </tbody>\n",
       "</table>\n",
       "</div>"
      ],
      "text/plain": [
       "Empty DataFrame\n",
       "Columns: [session_ID, Garage_ID, User_ID, User_type, Shared_ID, Start_plugin, Start_plugin_hour, End_plugout, End_plugout_hour, El_kWh, Duration_hours, month_plugin, weekdays_plugin, Plugin_category, Duration_category]\n",
       "Index: []"
      ]
     },
     "execution_count": 125,
     "metadata": {},
     "output_type": "execute_result"
    }
   ],
   "source": [
    "# check duplicate records, no duplicate, so no dropping process\n",
    "duplicate = df.duplicated()\n",
    "df[duplicate]"
   ]
  },
  {
   "cell_type": "code",
   "execution_count": 127,
   "metadata": {},
   "outputs": [],
   "source": [
    "# handling outlier\n",
    "def remove_outlier(col):\n",
    "    sorted(col)\n",
    "    Q1, Q3 = col.quantile([0.25, 0.75])\n",
    "    IQR = Q3 - Q1\n",
    "    lower_range = Q1 - (1.5 * IQR)\n",
    "    upper_range = Q3 + (1.5 * IQR)\n",
    "    return lower_range, upper_range"
   ]
  },
  {
   "cell_type": "code",
   "execution_count": null,
   "metadata": {},
   "outputs": [],
   "source": [
    "low_kWh, high_kWh = remove_ outlier(df['El_kWh'])\n",
    "df['El_kWh' = np.where(df[\"El_kWh\"]>high_kWh, high_kWh, df[\"El_kWh\"])\n",
    "   df['El_kWh' = np.where(df[\"El_kWh\"]<high_kWh, high_kWh, df[\"El_kWh\"])\n",
    "df.boxplot(column=['El_kWh'])"
   ]
  }
 ],
 "metadata": {
  "kernelspec": {
   "display_name": "Python 3",
   "language": "python",
   "name": "python3"
  },
  "language_info": {
   "codemirror_mode": {
    "name": "ipython",
    "version": 3
   },
   "file_extension": ".py",
   "mimetype": "text/x-python",
   "name": "python",
   "nbconvert_exporter": "python",
   "pygments_lexer": "ipython3",
   "version": "3.7.0"
  }
 },
 "nbformat": 4,
 "nbformat_minor": 2
}
